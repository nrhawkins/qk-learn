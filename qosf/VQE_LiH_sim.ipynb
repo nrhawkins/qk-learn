{
 "cells": [
  {
   "cell_type": "code",
   "execution_count": 1,
   "id": "3bb4ccd2",
   "metadata": {},
   "outputs": [],
   "source": [
    "from qiskit.algorithms import VQE, NumPyEigensolver\n",
    "import matplotlib.pyplot as plt\n",
    "import numpy as np\n",
    "from qiskit_nature.circuit.library import HartreeFock, UCCSD\n",
    "from qiskit.circuit.library import EfficientSU2\n",
    "from qiskit.algorithms.optimizers import COBYLA, SPSA, SLSQP\n",
    "from qiskit.opflow import Z2Symmetries\n",
    "from qiskit import IBMQ, BasicAer, Aer\n",
    "from qiskit_nature.drivers import UnitsType\n",
    "from qiskit_nature.drivers.second_quantization import PySCFDriver\n",
    "from qiskit_nature.operators.second_quantization import FermionicOp\n",
    "from qiskit.utils import QuantumInstance\n",
    "from qiskit.utils.mitigation import CompleteMeasFitter\n",
    "from qiskit.providers.aer.noise import NoiseModel"
   ]
  },
  {
   "cell_type": "markdown",
   "id": "ef1f0eb3",
   "metadata": {},
   "source": [
    "# Running VQE on a Statevector Simulator \n",
    "\n",
    "We demonstrate the calculation of the ground state energy for LiH at various interatomic distances. \n",
    "\n",
    "A driver for the molecule must be created at each such distance. \n",
    "\n",
    "Note that in this experiment, to reduce the number of qubits used, we freeze the core and remove two unoccupied orbitals. \n",
    "\n",
    "First, we define a function that takes an interatomic distance and returns the appropriate qubit operator,  \n",
    "H, as well as some other information about the operator."
   ]
  },
  {
   "cell_type": "code",
   "execution_count": 21,
   "id": "0ac7e772",
   "metadata": {},
   "outputs": [],
   "source": [
    "def get_qubit_op(dist):\n",
    "    driver = PySCFDriver(atom=\"Li .0 .0 .0; H .0 .0 \" + str(dist), unit=UnitsType.ANGSTROM, \n",
    "                         charge=0, spin=0, basis='sto3g')\n",
    "    molecule = driver.run()\n",
    "    freeze_list = [0]\n",
    "    remove_list = [-3, -2]\n",
    "    #repulsion_energy = molecule.nuclear_repulsion_energy\n",
    "    #num_particles = molecule.num_alpha + molecule.num_beta\n",
    "    #num_spin_orbitals = molecule.num_orbitals * 2\n",
    "    #remove_list = [x % molecule.num_orbitals for x in remove_list]\n",
    "    #freeze_list = [x % molecule.num_orbitals for x in freeze_list]\n",
    "    #remove_list = [x - len(freeze_list) for x in remove_list]\n",
    "    #remove_list += [x + molecule.num_orbitals - len(freeze_list)  for x in remove_list]\n",
    "    #freeze_list += [x + molecule.num_orbitals for x in freeze_list]\n",
    "    ferOp = FermionicOp(h1=molecule.one_body_integrals, h2=molecule.two_body_integrals)\n",
    "    #ferOp, energy_shift = ferOp.fermion_mode_freezing(freeze_list)\n",
    "    #num_spin_orbitals -= len(freeze_list)\n",
    "    #num_particles -= len(freeze_list)\n",
    "    ferOp = ferOp.fermion_mode_elimination(remove_list)\n",
    "    #num_spin_orbitals -= len(remove_list)\n",
    "    qubitOp = ferOp.mapping(map_type='parity', threshold=0.00000001)\n",
    "    #qubitOp = Z2Symmetries.two_qubit_reduction(qubitOp, num_particles)\n",
    "    #shift = energy_shift + repulsion_energy\n",
    "    #return qubitOp, num_particles, num_spin_orbitals, shift\n",
    "    return qubitOp"
   ]
  },
  {
   "cell_type": "markdown",
   "id": "fb6c9cc9",
   "metadata": {},
   "source": [
    "### First, the exact ground state energy is calculated using the qubit operator and a classical exact eigensolver. Subsequently, the initial state  \n",
    "|ψ⟩\n",
    "  is created, which the VQE instance uses to produce the final ansatz  \n",
    "min\n",
    "θ\n",
    "(\n",
    "|\n",
    "ψ\n",
    "(\n",
    "θ\n",
    ")\n",
    "⟩\n",
    ")\n",
    " . The exact result and the VQE result at each interatomic distance is stored. Observe that the result given by vqe.run(backend)['energy'] + shift is equivalent the quantity  \n",
    "min\n",
    "θ\n",
    "(\n",
    "⟨\n",
    "ψ\n",
    "(\n",
    "θ\n",
    ")\n",
    "|\n",
    "H\n",
    "|\n",
    "ψ\n",
    "(\n",
    "θ\n",
    ")\n",
    "⟩\n",
    ")\n",
    " , where the minimum is not necessarily the global minimum.\n",
    "\n",
    "When initializing the VQE instance with VQE(qubitOp, var_form, optimizer, 'matrix') the expectation value of  \n",
    "H\n",
    "  on  \n",
    "|\n",
    "ψ\n",
    "(\n",
    "θ\n",
    ")\n",
    "⟩\n",
    "  is directly calculated through matrix multiplication. However, when using an actual quantum device, or a true simulator such as the qasm_simulator with VQE(qubitOp, var_form, optimizer, 'paulis') the calculation of the expectation value is more complicated. A Hamiltonian may be represented as a sum of a Pauli strings, with each Pauli term acting on a qubit as specified by the mapping being used. Each Pauli string has a corresponding circuit appended to the circuit corresponding to  \n",
    "|\n",
    "ψ\n",
    "(\n",
    "θ\n",
    ")\n",
    "⟩\n",
    " . Subsequently, each of these circuits is executed, and all of the results are used to determine the expectation value of  \n",
    "H\n",
    "  on  \n",
    "|\n",
    "ψ\n",
    "(\n",
    "θ\n",
    ")\n",
    "⟩\n",
    " . In the following example, we initialize the VQE instance with matrix mode, and so the expectation value is directly calculated through matrix multiplication.\n",
    "\n",
    "Note that the following code snippet may take a few minutes to run to completion."
   ]
  },
  {
   "cell_type": "code",
   "execution_count": 22,
   "id": "812d3b81",
   "metadata": {},
   "outputs": [
    {
     "ename": "AttributeError",
     "evalue": "'ElectronicStructureDriverResult' object has no attribute 'one_body_integrals'",
     "output_type": "error",
     "traceback": [
      "\u001b[0;31m---------------------------------------------------------------------------\u001b[0m",
      "\u001b[0;31mAttributeError\u001b[0m                            Traceback (most recent call last)",
      "Input \u001b[0;32mIn [22]\u001b[0m, in \u001b[0;36m<cell line: 2>\u001b[0;34m()\u001b[0m\n\u001b[1;32m      1\u001b[0m dist \u001b[38;5;241m=\u001b[39m \u001b[38;5;241m0.5\u001b[39m\n\u001b[0;32m----> 2\u001b[0m qubitOp \u001b[38;5;241m=\u001b[39m \u001b[43mget_qubit_op\u001b[49m\u001b[43m(\u001b[49m\u001b[43mdist\u001b[49m\u001b[43m)\u001b[49m\n\u001b[1;32m      3\u001b[0m \u001b[38;5;28mprint\u001b[39m(\u001b[38;5;28mtype\u001b[39m(qubitOp))\n",
      "Input \u001b[0;32mIn [21]\u001b[0m, in \u001b[0;36mget_qubit_op\u001b[0;34m(dist)\u001b[0m\n\u001b[1;32m      6\u001b[0m remove_list \u001b[38;5;241m=\u001b[39m [\u001b[38;5;241m-\u001b[39m\u001b[38;5;241m3\u001b[39m, \u001b[38;5;241m-\u001b[39m\u001b[38;5;241m2\u001b[39m]\n\u001b[1;32m      7\u001b[0m \u001b[38;5;66;03m#repulsion_energy = molecule.nuclear_repulsion_energy\u001b[39;00m\n\u001b[1;32m      8\u001b[0m \u001b[38;5;66;03m#num_particles = molecule.num_alpha + molecule.num_beta\u001b[39;00m\n\u001b[1;32m      9\u001b[0m \u001b[38;5;66;03m#num_spin_orbitals = molecule.num_orbitals * 2\u001b[39;00m\n\u001b[0;32m   (...)\u001b[0m\n\u001b[1;32m     13\u001b[0m \u001b[38;5;66;03m#remove_list += [x + molecule.num_orbitals - len(freeze_list)  for x in remove_list]\u001b[39;00m\n\u001b[1;32m     14\u001b[0m \u001b[38;5;66;03m#freeze_list += [x + molecule.num_orbitals for x in freeze_list]\u001b[39;00m\n\u001b[0;32m---> 15\u001b[0m ferOp \u001b[38;5;241m=\u001b[39m FermionicOp(h1\u001b[38;5;241m=\u001b[39m\u001b[43mmolecule\u001b[49m\u001b[38;5;241;43m.\u001b[39;49m\u001b[43mone_body_integrals\u001b[49m, h2\u001b[38;5;241m=\u001b[39mmolecule\u001b[38;5;241m.\u001b[39mtwo_body_integrals)\n\u001b[1;32m     16\u001b[0m \u001b[38;5;66;03m#ferOp, energy_shift = ferOp.fermion_mode_freezing(freeze_list)\u001b[39;00m\n\u001b[1;32m     17\u001b[0m \u001b[38;5;66;03m#num_spin_orbitals -= len(freeze_list)\u001b[39;00m\n\u001b[1;32m     18\u001b[0m \u001b[38;5;66;03m#num_particles -= len(freeze_list)\u001b[39;00m\n\u001b[1;32m     19\u001b[0m ferOp \u001b[38;5;241m=\u001b[39m ferOp\u001b[38;5;241m.\u001b[39mfermion_mode_elimination(remove_list)\n",
      "\u001b[0;31mAttributeError\u001b[0m: 'ElectronicStructureDriverResult' object has no attribute 'one_body_integrals'"
     ]
    }
   ],
   "source": [
    "dist = 0.5\n",
    "qubitOp = get_qubit_op(dist)\n",
    "print(type(qubitOp))"
   ]
  },
  {
   "cell_type": "code",
   "execution_count": 7,
   "id": "f52763d3",
   "metadata": {},
   "outputs": [
    {
     "ename": "AttributeError",
     "evalue": "'ElectronicStructureDriverResult' object has no attribute 'nuclear_repulsion_energy'",
     "output_type": "error",
     "traceback": [
      "\u001b[0;31m---------------------------------------------------------------------------\u001b[0m",
      "\u001b[0;31mAttributeError\u001b[0m                            Traceback (most recent call last)",
      "Input \u001b[0;32mIn [7]\u001b[0m, in \u001b[0;36m<cell line: 6>\u001b[0;34m()\u001b[0m\n\u001b[1;32m      5\u001b[0m optimizer \u001b[38;5;241m=\u001b[39m SLSQP(maxiter\u001b[38;5;241m=\u001b[39m\u001b[38;5;241m5\u001b[39m)\n\u001b[1;32m      6\u001b[0m \u001b[38;5;28;01mfor\u001b[39;00m dist \u001b[38;5;129;01min\u001b[39;00m distances:\n\u001b[0;32m----> 7\u001b[0m     qubitOp, num_particles, num_spin_orbitals, shift \u001b[38;5;241m=\u001b[39m \u001b[43mget_qubit_op\u001b[49m\u001b[43m(\u001b[49m\u001b[43mdist\u001b[49m\u001b[43m)\u001b[49m\n\u001b[1;32m      8\u001b[0m     result \u001b[38;5;241m=\u001b[39m NumPyEigensolver(qubitOp)\u001b[38;5;241m.\u001b[39mrun()\n\u001b[1;32m      9\u001b[0m     exact_energies\u001b[38;5;241m.\u001b[39mappend(np\u001b[38;5;241m.\u001b[39mreal(result\u001b[38;5;241m.\u001b[39meigenvalues) \u001b[38;5;241m+\u001b[39m shift)\n",
      "Input \u001b[0;32mIn [2]\u001b[0m, in \u001b[0;36mget_qubit_op\u001b[0;34m(dist)\u001b[0m\n\u001b[1;32m      5\u001b[0m freeze_list \u001b[38;5;241m=\u001b[39m [\u001b[38;5;241m0\u001b[39m]\n\u001b[1;32m      6\u001b[0m remove_list \u001b[38;5;241m=\u001b[39m [\u001b[38;5;241m-\u001b[39m\u001b[38;5;241m3\u001b[39m, \u001b[38;5;241m-\u001b[39m\u001b[38;5;241m2\u001b[39m]\n\u001b[0;32m----> 7\u001b[0m repulsion_energy \u001b[38;5;241m=\u001b[39m \u001b[43mmolecule\u001b[49m\u001b[38;5;241;43m.\u001b[39;49m\u001b[43mnuclear_repulsion_energy\u001b[49m\n\u001b[1;32m      8\u001b[0m num_particles \u001b[38;5;241m=\u001b[39m molecule\u001b[38;5;241m.\u001b[39mnum_alpha \u001b[38;5;241m+\u001b[39m molecule\u001b[38;5;241m.\u001b[39mnum_beta\n\u001b[1;32m      9\u001b[0m num_spin_orbitals \u001b[38;5;241m=\u001b[39m molecule\u001b[38;5;241m.\u001b[39mnum_orbitals \u001b[38;5;241m*\u001b[39m \u001b[38;5;241m2\u001b[39m\n",
      "\u001b[0;31mAttributeError\u001b[0m: 'ElectronicStructureDriverResult' object has no attribute 'nuclear_repulsion_energy'"
     ]
    }
   ],
   "source": [
    "backend = BasicAer.get_backend(\"statevector_simulator\")\n",
    "distances = np.arange(0.5, 4.0, 0.1)\n",
    "exact_energies = []\n",
    "vqe_energies = []\n",
    "optimizer = SLSQP(maxiter=5)\n",
    "for dist in distances:\n",
    "    qubitOp, num_particles, num_spin_orbitals, shift = get_qubit_op(dist)\n",
    "    result = NumPyEigensolver(qubitOp).run()\n",
    "    exact_energies.append(np.real(result.eigenvalues) + shift)\n",
    "    initial_state = HartreeFock(\n",
    "        num_spin_orbitals,\n",
    "        num_particles,\n",
    "        qubit_mapping='parity'\n",
    "    ) \n",
    "    var_form = UCCSD(\n",
    "        num_orbitals=num_spin_orbitals,\n",
    "        num_particles=num_particles,\n",
    "        initial_state=initial_state,\n",
    "        qubit_mapping='parity'\n",
    "    )\n",
    "    vqe = VQE(qubitOp, var_form, optimizer)\n",
    "    vqe_result = np.real(vqe.run(backend)['eigenvalue'] + shift)\n",
    "    vqe_energies.append(vqe_result)\n",
    "    print(\"Interatomic Distance:\", np.round(dist, 2), \"VQE Result:\", vqe_result, \"Exact Energy:\", exact_energies[-1])\n",
    "    \n",
    "print(\"All energies have been calculated\")"
   ]
  },
  {
   "cell_type": "code",
   "execution_count": null,
   "id": "a04facd4",
   "metadata": {},
   "outputs": [],
   "source": []
  }
 ],
 "metadata": {
  "kernelspec": {
   "display_name": "qklearn_py38",
   "language": "python",
   "name": "qklearn_py38"
  },
  "language_info": {
   "codemirror_mode": {
    "name": "ipython",
    "version": 3
   },
   "file_extension": ".py",
   "mimetype": "text/x-python",
   "name": "python",
   "nbconvert_exporter": "python",
   "pygments_lexer": "ipython3",
   "version": "3.8.12"
  }
 },
 "nbformat": 4,
 "nbformat_minor": 5
}
