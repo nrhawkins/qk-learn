{
 "cells": [
  {
   "cell_type": "code",
   "execution_count": 24,
   "id": "9b45692d",
   "metadata": {},
   "outputs": [],
   "source": [
    "# imports\n",
    "import numpy as np\n",
    "from numpy import linalg as LA\n",
    "from qiskit import QuantumCircuit\n",
    "from qiskit.opflow.primitive_ops import PrimitiveOp\n",
    "from qiskit.quantum_info import Operator\n",
    "from qiskit.algorithms import NumPyEigensolver\n",
    "from qiskit.utils import algorithm_globals\n",
    "from qiskit.utils import QuantumInstance\n",
    "from qiskit import Aer\n",
    "from qiskit.algorithms.optimizers import SLSQP\n",
    "from qiskit.algorithms import VQE\n",
    "from qiskit.circuit.library import TwoLocal"
   ]
  },
  {
   "cell_type": "code",
   "execution_count": 28,
   "id": "4443a6d8",
   "metadata": {},
   "outputs": [
    {
     "name": "stdout",
     "output_type": "stream",
     "text": [
      "Hamiltonian\n",
      "[[ 0  0  0  0]\n",
      " [ 0 -1  1  0]\n",
      " [ 0  1 -1  0]\n",
      " [ 0  0  0  0]]\n",
      "\n",
      "<class 'numpy.ndarray'>\n",
      "\n",
      "is unitary: False\n"
     ]
    }
   ],
   "source": [
    "# the Hamiltonian\n",
    "\n",
    "H1 = np.array([\n",
    "    [0, 0, 0, 0], \n",
    "    [0, -1, 1, 0],\n",
    "    [0, 1, -1, 0], \n",
    "    [0, 0, 0, 0]])\n",
    "\n",
    "print(\"Hamiltonian\")\n",
    "print(H1)\n",
    "\n",
    "H1_op = PrimitiveOp(H1)\n",
    "print()\n",
    "print(type(H1))\n",
    "print()\n",
    "print(\"is unitary:\", Operator(H1).is_unitary())"
   ]
  },
  {
   "cell_type": "code",
   "execution_count": 12,
   "id": "2dc5760b",
   "metadata": {},
   "outputs": [
    {
     "name": "stdout",
     "output_type": "stream",
     "text": [
      "eigenvalues\n",
      "[ 0. -2.  0.  0.]\n",
      "\n",
      "min eigenvalue\n",
      "-2.0\n"
     ]
    }
   ],
   "source": [
    "# classically compute min eigenvalue\n",
    "\n",
    "H1_eigenvals = LA.eigvals(H1)\n",
    "H1_min_eigenval = min(H1_eigenvals)\n",
    "\n",
    "print(\"eigenvalues\")\n",
    "print(H1_eigenvals)\n",
    "print()\n",
    "print(\"min eigenvalue\")\n",
    "print(H1_min_eigenval)"
   ]
  },
  {
   "cell_type": "code",
   "execution_count": 13,
   "id": "f12996e0",
   "metadata": {},
   "outputs": [
    {
     "name": "stdout",
     "output_type": "stream",
     "text": [
      "{   'aux_operator_eigenvalues': None,\n",
      "    'eigenstates': ListOp([VectorStateFn(Statevector([-2.77555756e-17-1.98408998e-17j,\n",
      "              4.41702900e-01+5.52176193e-01j,\n",
      "             -4.41702900e-01-5.52176193e-01j,\n",
      "             -1.11022302e-16-2.77555756e-17j],\n",
      "            dims=(2, 2)), coeff=1.0, is_measurement=False)], coeff=1.0, abelian=False),\n",
      "    'eigenvalues': array([-2.])}\n"
     ]
    }
   ],
   "source": [
    "# compute eigenvalues classically\n",
    "\n",
    "npe = NumPyEigensolver()\n",
    "\n",
    "H1_eigenvalues = npe.compute_eigenvalues(H1_op)\n",
    "\n",
    "print(H1_eigenvalues)"
   ]
  },
  {
   "cell_type": "code",
   "execution_count": 25,
   "id": "81e76e85",
   "metadata": {},
   "outputs": [
    {
     "name": "stdout",
     "output_type": "stream",
     "text": [
      "{   'aux_operator_eigenvalues': None,\n",
      "    'cost_function_evals': 68,\n",
      "    'eigenstate': array([-1.62184660e-04+0.j, -7.07155717e-01+0.j,  7.07057805e-01+0.j,\n",
      "        1.62211227e-04+0.j]),\n",
      "    'eigenvalue': (-1.9999998851804786+0j),\n",
      "    'optimal_parameters': {   ParameterVectorElement(θ[0]): 4.474004212975571,\n",
      "                              ParameterVectorElement(θ[1]): 3.7552674802815225,\n",
      "                              ParameterVectorElement(θ[2]): 0.4502124244654901,\n",
      "                              ParameterVectorElement(θ[3]): 6.263984278482669,\n",
      "                              ParameterVectorElement(θ[5]): 0.9943057528573237,\n",
      "                              ParameterVectorElement(θ[4]): -2.5301216816670666,\n",
      "                              ParameterVectorElement(θ[6]): -4.85880891119029,\n",
      "                              ParameterVectorElement(θ[7]): 0.09117421264779375},\n",
      "    'optimal_point': array([ 4.47400421,  3.75526748,  0.45021242,  6.26398428, -2.53012168,\n",
      "        0.99430575, -4.85880891,  0.09117421]),\n",
      "    'optimal_value': -1.9999998851804786,\n",
      "    'optimizer_evals': None,\n",
      "    'optimizer_time': 0.14728403091430664}\n"
     ]
    }
   ],
   "source": [
    "# compute min eigenvalue and eigenvector using qiskit's VQE \n",
    "\n",
    "seed = 50\n",
    "algorithm_globals.random_seed = seed\n",
    "qi = QuantumInstance(Aer.get_backend('statevector_simulator'), seed_transpiler=seed, seed_simulator=seed)\n",
    "\n",
    "ansatz = TwoLocal(rotation_blocks='ry', entanglement_blocks='cz')\n",
    "\n",
    "slsqp = SLSQP(maxiter=1000)\n",
    "\n",
    "vqe = VQE(ansatz, optimizer=slsqp, quantum_instance=qi)\n",
    "\n",
    "result = vqe.compute_minimum_eigenvalue(H1_op)\n",
    "\n",
    "print(result)"
   ]
  },
  {
   "cell_type": "code",
   "execution_count": 14,
   "id": "50a124ad",
   "metadata": {},
   "outputs": [
    {
     "data": {
      "text/plain": [
       "<qiskit.circuit.instructionset.InstructionSet at 0x7f0797210c00>"
      ]
     },
     "execution_count": 14,
     "metadata": {},
     "output_type": "execute_result"
    }
   ],
   "source": [
    "# decompose the Hamiltonian into a sum of terms\n",
    "# H1 = 0.5*(XX + YY + ZZ - II)\n",
    "\n",
    "xx_qc = QuantumCircuit(2,2)\n",
    "yy_qc = QuantumCircuit(2,2)\n",
    "zz_qc = QuantumCircuit(2,2)\n",
    "ii_qc = QuantumCircuit(2,2)\n",
    "\n",
    "xx_qc.x(0)\n",
    "xx_qc.x(1)\n",
    "\n",
    "yy_qc.y(0)\n",
    "yy_qc.y(1)\n",
    "\n",
    "zz_qc.z(0)\n",
    "zz_qc.z(1)\n",
    "\n",
    "ii_qc.i(0)\n",
    "ii_qc.i(1)\n"
   ]
  },
  {
   "cell_type": "code",
   "execution_count": 26,
   "id": "ef5d0f0a",
   "metadata": {},
   "outputs": [
    {
     "data": {
      "text/plain": [
       "<qiskit.circuit.instructionset.InstructionSet at 0x7f07929e0ac0>"
      ]
     },
     "execution_count": 26,
     "metadata": {},
     "output_type": "execute_result"
    }
   ],
   "source": [
    "# ansatz using rx and ry gates \n",
    "\n",
    "def ansatz_rx_ry_prep(theta_x_0=np.pi/2, theta_y_0=np.pi/2, \n",
    "                      theta_x_1=np.pi/2, theta_y_1=np.pi/2 ):\n",
    "\n",
    "    ansatz_rxry = QuantumCircuit(2)\n",
    "    ansatz_rxry.rx(theta_x_0, 0)\n",
    "    ansatz_rxry.ry(theta_y_0, 0)\n",
    "\n",
    "    ansatz_rxry.rx(theta_x_1, 1)\n",
    "    ansatz_rxry.ry(theta_y_1, 1)\n",
    "    \n",
    "    return ansatz_rxry    "
   ]
  },
  {
   "cell_type": "code",
   "execution_count": 27,
   "id": "1181e689",
   "metadata": {},
   "outputs": [],
   "source": [
    "# ansatz \n",
    "\n",
    "def ansatz_prep(theta):\n",
    "\n",
    "    ansatz = QuantumCircuit(2)\n",
    "    \n",
    "    ansatz.h(0)\n",
    "    ansatz.i(1)\n",
    "    ansatz.cx(0,1)\n",
    "    ansatz.rx(theta, 0)    \n",
    "    ansatz.i(1)    \n",
    "    \n",
    "    return ansatz\n",
    "    "
   ]
  },
  {
   "cell_type": "code",
   "execution_count": null,
   "id": "22e92bc6",
   "metadata": {},
   "outputs": [],
   "source": [
    "# compute energy for a given trial state\n",
    "\n",
    "def compute_energy(ansatz):\n",
    "    \n",
    "    \n",
    "    \n",
    "    return energy"
   ]
  },
  {
   "cell_type": "code",
   "execution_count": null,
   "id": "146a152e",
   "metadata": {},
   "outputs": [],
   "source": [
    "# find minimum energy for a set of trial states\n",
    "\n",
    "thetas = [0, np.pi/2, np.pi, (3/2)*np.pi, 2*np.pi]\n",
    "\n",
    "for theta in thetas:\n",
    "    \n",
    "\n",
    "\n"
   ]
  }
 ],
 "metadata": {
  "kernelspec": {
   "display_name": "qklearn_py38",
   "language": "python",
   "name": "qklearn_py38"
  },
  "language_info": {
   "codemirror_mode": {
    "name": "ipython",
    "version": 3
   },
   "file_extension": ".py",
   "mimetype": "text/x-python",
   "name": "python",
   "nbconvert_exporter": "python",
   "pygments_lexer": "ipython3",
   "version": "3.8.12"
  }
 },
 "nbformat": 4,
 "nbformat_minor": 5
}
