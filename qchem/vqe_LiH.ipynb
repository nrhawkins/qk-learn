{
 "cells": [
  {
   "cell_type": "markdown",
   "id": "98eadfc8",
   "metadata": {},
   "source": [
    "VQE Implementation in Qiskit \n",
    "\n",
    "This section illustrates an implementation of VQE using the programmatic approach. \n",
    "Qiskit Aqua also enables a declarative implementation, however, it reveals less \n",
    "information about the underlying algorithm. This code, specifically the preparation \n",
    "of qubit operators, is based on the code found in the Qiskit Tutorials repository \n",
    "(and as of July 2019, may be found at: https://github.com/Qiskit/qiskit-tutorials ).\n",
    "\n",
    "The following libraries must first be imported."
   ]
  },
  {
   "cell_type": "code",
   "execution_count": 2,
   "id": "bf48f61c",
   "metadata": {},
   "outputs": [
    {
     "name": "stdout",
     "output_type": "stream",
     "text": [
      "Package              Version\r\n",
      "-------------------- ---------\r\n",
      "argon2-cffi          21.3.0\r\n",
      "argon2-cffi-bindings 21.2.0\r\n",
      "asttokens            2.0.5\r\n",
      "attrs                21.4.0\r\n",
      "backcall             0.2.0\r\n",
      "bleach               4.1.0\r\n",
      "certifi              2021.5.30\r\n",
      "cffi                 1.15.0\r\n",
      "charset-normalizer   2.0.12\r\n",
      "cryptography         36.0.2\r\n",
      "cycler               0.11.0\r\n",
      "debugpy              1.5.1\r\n",
      "decorator            5.1.1\r\n",
      "defusedxml           0.7.1\r\n",
      "dill                 0.3.4\r\n",
      "entrypoints          0.4\r\n",
      "executing            0.8.3\r\n",
      "fonttools            4.31.2\r\n",
      "h5py                 3.6.0\r\n",
      "idna                 3.3\r\n",
      "ipykernel            6.9.1\r\n",
      "ipython              8.1.1\r\n",
      "ipython-genutils     0.2.0\r\n",
      "ipywidgets           7.6.5\r\n",
      "jedi                 0.18.1\r\n",
      "Jinja2               3.0.3\r\n",
      "joblib               1.1.0\r\n",
      "jsonschema           4.4.0\r\n",
      "jupyter              1.0.0\r\n",
      "jupyter-client       7.1.2\r\n",
      "jupyter-console      6.4.0\r\n",
      "jupyter-core         4.9.2\r\n",
      "jupyterlab-pygments  0.1.2\r\n",
      "jupyterlab-widgets   1.0.2\r\n",
      "kiwisolver           1.4.0\r\n",
      "MarkupSafe           2.1.0\r\n",
      "matplotlib           3.5.1\r\n",
      "matplotlib-inline    0.1.3\r\n",
      "mistune              0.8.4\r\n",
      "mpmath               1.2.1\r\n",
      "nbclient             0.5.11\r\n",
      "nbconvert            6.4.2\r\n",
      "nbformat             5.1.3\r\n",
      "nest-asyncio         1.5.4\r\n",
      "notebook             6.4.8\r\n",
      "ntlm-auth            1.5.0\r\n",
      "numpy                1.22.3\r\n",
      "packaging            21.3\r\n",
      "pandocfilters        1.5.0\r\n",
      "parso                0.8.3\r\n",
      "pbr                  5.8.1\r\n",
      "pexpect              4.8.0\r\n",
      "pickleshare          0.7.5\r\n",
      "Pillow               9.0.1\r\n",
      "pip                  21.2.4\r\n",
      "ply                  3.11\r\n",
      "prometheus-client    0.13.1\r\n",
      "prompt-toolkit       3.0.28\r\n",
      "psutil               5.9.0\r\n",
      "ptyprocess           0.7.0\r\n",
      "pure-eval            0.2.2\r\n",
      "pycparser            2.21\r\n",
      "Pygments             2.11.2\r\n",
      "pyparsing            3.0.7\r\n",
      "pyrsistent           0.18.1\r\n",
      "python-constraint    1.4.0\r\n",
      "python-dateutil      2.8.2\r\n",
      "pyzmq                22.3.0\r\n",
      "qiskit               0.34.2\r\n",
      "qiskit-aer           0.10.3\r\n",
      "qiskit-ibmq-provider 0.18.3\r\n",
      "qiskit-ignis         0.7.0\r\n",
      "qiskit-nature        0.3.1\r\n",
      "qiskit-terra         0.19.2\r\n",
      "qtconsole            5.2.2\r\n",
      "QtPy                 2.0.1\r\n",
      "requests             2.27.1\r\n",
      "requests-ntlm        1.1.0\r\n",
      "retworkx             0.11.0\r\n",
      "scikit-learn         1.0.2\r\n",
      "scipy                1.8.0\r\n",
      "Send2Trash           1.8.0\r\n",
      "setuptools           58.0.4\r\n",
      "six                  1.16.0\r\n",
      "stack-data           0.2.0\r\n",
      "stevedore            3.5.0\r\n",
      "symengine            0.9.2\r\n",
      "sympy                1.10.1\r\n",
      "terminado            0.13.2\r\n",
      "testpath             0.6.0\r\n",
      "threadpoolctl        3.1.0\r\n",
      "tornado              6.1\r\n",
      "traitlets            5.1.1\r\n",
      "tweedledum           1.1.1\r\n",
      "urllib3              1.26.9\r\n",
      "wcwidth              0.2.5\r\n",
      "webencodings         0.5.1\r\n",
      "websocket-client     1.3.1\r\n",
      "wheel                0.37.1\r\n",
      "widgetsnbextension   3.5.2\r\n"
     ]
    }
   ],
   "source": [
    "!pip list"
   ]
  },
  {
   "cell_type": "code",
   "execution_count": 2,
   "id": "21bbe9f7",
   "metadata": {},
   "outputs": [
    {
     "ename": "ModuleNotFoundError",
     "evalue": "No module named 'qiskit_nature'",
     "output_type": "error",
     "traceback": [
      "\u001b[0;31m---------------------------------------------------------------------------\u001b[0m",
      "\u001b[0;31mModuleNotFoundError\u001b[0m                       Traceback (most recent call last)",
      "\u001b[0;32m<ipython-input-2-34dfc423d3e3>\u001b[0m in \u001b[0;36m<module>\u001b[0;34m\u001b[0m\n\u001b[0;32m----> 1\u001b[0;31m \u001b[0;32mfrom\u001b[0m \u001b[0mqiskit_nature\u001b[0m\u001b[0;34m.\u001b[0m\u001b[0mdrivers\u001b[0m \u001b[0;32mimport\u001b[0m \u001b[0mPySCFDriver\u001b[0m\u001b[0;34m,\u001b[0m \u001b[0mUnitsType\u001b[0m\u001b[0;34m\u001b[0m\u001b[0;34m\u001b[0m\u001b[0m\n\u001b[0m",
      "\u001b[0;31mModuleNotFoundError\u001b[0m: No module named 'qiskit_nature'"
     ]
    }
   ],
   "source": [
    "from qiskit_nature.drivers import PySCFDriver, UnitsType"
   ]
  },
  {
   "cell_type": "code",
   "execution_count": 1,
   "id": "135fda42",
   "metadata": {},
   "outputs": [
    {
     "ename": "ModuleNotFoundError",
     "evalue": "No module named 'qiskit'",
     "output_type": "error",
     "traceback": [
      "\u001b[0;31m---------------------------------------------------------------------------\u001b[0m",
      "\u001b[0;31mModuleNotFoundError\u001b[0m                       Traceback (most recent call last)",
      "\u001b[0;32m<ipython-input-1-2ccd96ac0582>\u001b[0m in \u001b[0;36m<module>\u001b[0;34m\u001b[0m\n\u001b[0;32m----> 1\u001b[0;31m \u001b[0;32mfrom\u001b[0m \u001b[0mqiskit\u001b[0m\u001b[0;34m.\u001b[0m\u001b[0malgorithms\u001b[0m \u001b[0;32mimport\u001b[0m \u001b[0mVQE\u001b[0m\u001b[0;34m,\u001b[0m \u001b[0mNumPyEigensolver\u001b[0m\u001b[0;34m\u001b[0m\u001b[0;34m\u001b[0m\u001b[0m\n\u001b[0m\u001b[1;32m      2\u001b[0m \u001b[0;32mimport\u001b[0m \u001b[0mmatplotlib\u001b[0m\u001b[0;34m.\u001b[0m\u001b[0mpyplot\u001b[0m \u001b[0;32mas\u001b[0m \u001b[0mplt\u001b[0m\u001b[0;34m\u001b[0m\u001b[0;34m\u001b[0m\u001b[0m\n\u001b[1;32m      3\u001b[0m \u001b[0;32mimport\u001b[0m \u001b[0mnumpy\u001b[0m \u001b[0;32mas\u001b[0m \u001b[0mnp\u001b[0m\u001b[0;34m\u001b[0m\u001b[0;34m\u001b[0m\u001b[0m\n\u001b[1;32m      4\u001b[0m \u001b[0;32mfrom\u001b[0m \u001b[0mqiskit_nature\u001b[0m\u001b[0;34m.\u001b[0m\u001b[0mcircuit\u001b[0m\u001b[0;34m.\u001b[0m\u001b[0mlibrary\u001b[0m \u001b[0;32mimport\u001b[0m \u001b[0mUCCSD\u001b[0m\u001b[0;34m\u001b[0m\u001b[0;34m\u001b[0m\u001b[0m\n\u001b[1;32m      5\u001b[0m \u001b[0;32mfrom\u001b[0m \u001b[0mqiskit_nature\u001b[0m\u001b[0;34m.\u001b[0m\u001b[0mcircuit\u001b[0m\u001b[0;34m.\u001b[0m\u001b[0mlibrary\u001b[0m \u001b[0;32mimport\u001b[0m \u001b[0mHartreeFock\u001b[0m\u001b[0;34m\u001b[0m\u001b[0;34m\u001b[0m\u001b[0m\n",
      "\u001b[0;31mModuleNotFoundError\u001b[0m: No module named 'qiskit'"
     ]
    }
   ],
   "source": [
    "from qiskit.algorithms import VQE, NumPyEigensolver\n",
    "import matplotlib.pyplot as plt\n",
    "import numpy as np\n",
    "from qiskit_nature.circuit.library import UCCSD\n",
    "from qiskit_nature.circuit.library import HartreeFock\n",
    "from qiskit.circuit.library import EfficientSU2\n",
    "from qiskit.algorithms.optimizers import COBYLA, SPSA, SLSQP\n",
    "from qiskit.opflow.primitive_ops import Z2Symmetries\n",
    "from qiskit import IBMQ, BasicAer, Aer\n",
    "from qiskit_nature.drivers import PySCFDriver, UnitsType\n",
    "from qiskit_nature.drivers.second_quantization import PySCFDriver\n",
    "from qiskit_nature.operators.second_quantization import FermionicOp\n",
    "from qiskit.utils import QuantumInstance\n",
    "from qiskit.ignis.mitigation.measurement import CompleteMeasFitter\n",
    "from qiskit.providers.aer.noise import NoiseModel"
   ]
  },
  {
   "cell_type": "markdown",
   "id": "7428973c",
   "metadata": {},
   "source": [
    "Running VQE on a Statevector Simulator \n",
    "\n",
    "We demonstrate the calculation of the ground state energy for LiH at various interatomic distances. A driver for the molecule must be created at each such distance. Note that in this experiment, to reduce the number of qubits used, we freeze the core and remove two unoccupied orbitals. First, we define a function that takes an interatomic distance and returns the appropriate qubit operator,  \n",
    "H, as well as some other information about the operator."
   ]
  },
  {
   "cell_type": "code",
   "execution_count": null,
   "id": "ff91adf7",
   "metadata": {},
   "outputs": [],
   "source": [
    "def get_qubit_op(dist):\n",
    "    driver = PySCFDriver(atom=\"Li .0 .0 .0; H .0 .0 \" + str(dist), unit=UnitsType.ANGSTROM, \n",
    "                         charge=0, spin=0, basis='sto3g')\n",
    "    molecule = driver.run()\n",
    "    freeze_list = [0]\n",
    "    remove_list = [-3, -2]\n",
    "    repulsion_energy = molecule.nuclear_repulsion_energy\n",
    "    num_particles = molecule.num_alpha + molecule.num_beta\n",
    "    num_spin_orbitals = molecule.num_orbitals * 2\n",
    "    remove_list = [x % molecule.num_orbitals for x in remove_list]\n",
    "    freeze_list = [x % molecule.num_orbitals for x in freeze_list]\n",
    "    remove_list = [x - len(freeze_list) for x in remove_list]\n",
    "    remove_list += [x + molecule.num_orbitals - len(freeze_list)  for x in remove_list]\n",
    "    freeze_list += [x + molecule.num_orbitals for x in freeze_list]\n",
    "    ferOp = FermionicOperator(h1=molecule.one_body_integrals, h2=molecule.two_body_integrals)\n",
    "    ferOp, energy_shift = ferOp.fermion_mode_freezing(freeze_list)\n",
    "    num_spin_orbitals -= len(freeze_list)\n",
    "    num_particles -= len(freeze_list)\n",
    "    ferOp = ferOp.fermion_mode_elimination(remove_list)\n",
    "    num_spin_orbitals -= len(remove_list)\n",
    "    qubitOp = ferOp.mapping(map_type='parity', threshold=0.00000001)\n",
    "    qubitOp = Z2Symmetries.two_qubit_reduction(qubitOp, num_particles)\n",
    "    shift = energy_shift + repulsion_energy\n",
    "    return qubitOp, num_particles, num_spin_orbitals, shift"
   ]
  },
  {
   "cell_type": "code",
   "execution_count": null,
   "id": "3675083f",
   "metadata": {},
   "outputs": [],
   "source": [
    "backend = BasicAer.get_backend(\"statevector_simulator\")\n",
    "distances = np.arange(0.5, 4.0, 0.1)\n",
    "exact_energies = []\n",
    "vqe_energies = []\n",
    "optimizer = SLSQP(maxiter=5)"
   ]
  },
  {
   "cell_type": "code",
   "execution_count": null,
   "id": "9ee0a258",
   "metadata": {},
   "outputs": [],
   "source": [
    "for dist in distances:\n",
    "    qubitOp, num_particles, num_spin_orbitals, shift = get_qubit_op(dist)\n",
    "    result = NumPyEigensolver(qubitOp).run()\n",
    "    exact_energies.append(np.real(result.eigenvalues) + shift)\n",
    "    initial_state = HartreeFock(\n",
    "        num_spin_orbitals,\n",
    "        num_particles,\n",
    "        qubit_mapping='parity'\n",
    "    ) \n",
    "    var_form = UCCSD(\n",
    "        num_orbitals=num_spin_orbitals,\n",
    "        num_particles=num_particles,\n",
    "        initial_state=initial_state,\n",
    "        qubit_mapping='parity'\n",
    "    )\n",
    "    vqe = VQE(qubitOp, var_form, optimizer)\n",
    "    vqe_result = np.real(vqe.run(backend)['eigenvalue'] + shift)\n",
    "    vqe_energies.append(vqe_result)\n",
    "    print(\"Interatomic Distance:\", np.round(dist, 2), \"VQE Result:\", vqe_result, \"Exact Energy:\", exact_energies[-1])\n",
    "    \n",
    "print(\"All energies have been calculated\")"
   ]
  },
  {
   "cell_type": "code",
   "execution_count": null,
   "id": "5272caa9",
   "metadata": {},
   "outputs": [],
   "source": []
  }
 ],
 "metadata": {
  "kernelspec": {
   "display_name": "qklearn_py310",
   "language": "python",
   "name": "qklearn_py310"
  },
  "language_info": {
   "codemirror_mode": {
    "name": "ipython",
    "version": 3
   },
   "file_extension": ".py",
   "mimetype": "text/x-python",
   "name": "python",
   "nbconvert_exporter": "python",
   "pygments_lexer": "ipython3",
   "version": "3.6.9"
  }
 },
 "nbformat": 4,
 "nbformat_minor": 5
}
