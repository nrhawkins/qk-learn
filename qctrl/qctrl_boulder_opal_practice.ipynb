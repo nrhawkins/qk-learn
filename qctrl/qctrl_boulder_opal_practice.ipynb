{
 "cells": [
  {
   "cell_type": "code",
   "execution_count": 1,
   "id": "5436a7ed",
   "metadata": {},
   "outputs": [],
   "source": [
    "# Import Q-CTRL Python package.\n",
    "from qctrl import Qctrl\n",
    "\n",
    "# Start a session with the API.\n",
    "qctrl = Qctrl()"
   ]
  },
  {
   "cell_type": "code",
   "execution_count": null,
   "id": "81f5f8ab",
   "metadata": {},
   "outputs": [],
   "source": []
  }
 ],
 "metadata": {
  "kernelspec": {
   "display_name": "qctrl_py38",
   "language": "python",
   "name": "qctrl_py38"
  },
  "language_info": {
   "codemirror_mode": {
    "name": "ipython",
    "version": 3
   },
   "file_extension": ".py",
   "mimetype": "text/x-python",
   "name": "python",
   "nbconvert_exporter": "python",
   "pygments_lexer": "ipython3",
   "version": "3.8.13"
  }
 },
 "nbformat": 4,
 "nbformat_minor": 5
}
