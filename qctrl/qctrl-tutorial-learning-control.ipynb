{
 "cells": [
  {
   "cell_type": "markdown",
   "metadata": {},
   "source": [
    "# Q-CTRL tutorial: Learning control\n",
    "\n",
    "This notebook is designed to be presented. To learn more after the presentation see: [Find optimal pulses with automated optimization](https://docs.q-ctrl.com/boulder-opal/tutorials/find-optimal-pulses-with-automated-optimization#find-optimal-pulses-with-automated-optimization)."
   ]
  },
  {
   "cell_type": "markdown",
   "metadata": {},
   "source": [
    "## Example: Closed loop optimization a single qubit\n",
    "\n",
    "Here we show how closed loop automated optimization can be used to find pulses that perform state transfer without knowledge of the systems Hamiltonian or model.\n",
    "\n",
    "The experiment is treated as a function that simply takes a set of control pulses and returns a set of measurements. You are then required to create a cost function that quantifies the quality of the outcome based on the returned measurements.\n",
    "\n",
    "Here we create a cost function that targets creating an first excited state. The cost function is simply 1 minus the estimated probability of being in the first excited states, calculated by taking the count of excited state measurements divided by the total measurements returned. \n",
    "\n",
    "The closed-loop automated optimization routine then automatically tests new control pulses and finds a control pulse that minimizes the cost function. Once it reaches a target cost it halts."
   ]
  },
  {
   "cell_type": "code",
   "execution_count": 22,
   "metadata": {},
   "outputs": [],
   "source": [
    "import numpy as np\n",
    "import matplotlib.pyplot as plt\n",
    "\n",
    "# Q-CTRL imports\n",
    "from qctrl import Qctrl\n",
    "from qctrlvisualizer import get_qctrl_style, plot_cost_history, plot_populations, plot_controls\n",
    "\n",
    "# Starting a session with the API\n",
    "qctrl = Qctrl()\n",
    "\n",
    "# Plotting style\n",
    "plt.style.use(get_qctrl_style())"
   ]
  },
  {
   "cell_type": "code",
   "execution_count": 39,
   "metadata": {},
   "outputs": [],
   "source": [
    "# Create the Hamiltonian for the pretend experiment, normally this is not known. \n",
    "def make_hamiltonian(graph, controls, duration):\n",
    "\n",
    "    # Define simulation parameters and operators.\n",
    "    filter_cutoff_frequency = 2 * np.pi * 0.3  # GHz\n",
    "    segment_count = 128\n",
    "    max_drive_amplitude = 2 * np.pi * 0.1  # GHz\n",
    "    delta = -0.33 * 2 * np.pi  # GHz\n",
    "    big_delta = 0.01 * 2 * np.pi  # GHz\n",
    "    number_operator = graph.number_operator(3)\n",
    "    drive_operator = 0.5 * graph.annihilation_operator(3)\n",
    "\n",
    "    # Retrieve control information.\n",
    "    control_values = controls * max_drive_amplitude\n",
    "\n",
    "    # Construct constant Hamiltonian terms.\n",
    "    frequency_term = big_delta * number_operator\n",
    "    anharmonicity_term = (\n",
    "        delta * (number_operator @ number_operator - number_operator) / 2\n",
    "    )\n",
    "\n",
    "    # Construct filtered drive.\n",
    "    filtered_drive = graph.convolve_pwc(\n",
    "        pwc=graph.pwc_signal(duration=duration, values=control_values),\n",
    "        kernel=graph.sinc_convolution_kernel(filter_cutoff_frequency),\n",
    "    )\n",
    "    drive = graph.discretize_stf(filtered_drive, duration, segment_count)\n",
    "    drive_term = graph.hermitian_part(drive * drive_operator)\n",
    "\n",
    "    # Build Hamiltonian and calculate unitary evolution operators.\n",
    "    hamiltonian = drive_term + frequency_term + anharmonicity_term\n",
    "    \n",
    "    return hamiltonian\n",
    "\n",
    "# Run a simulation for comparison\n",
    "def run_simulation(controls, duration, sample_count):\n",
    "\n",
    "    graph = qctrl.create_graph()\n",
    "    \n",
    "    initial_state = graph.fock_state(3, 0)[None,:,None]\n",
    "    target_state = graph.fock_state(3, 1)\n",
    "    \n",
    "    hamiltonian = make_hamiltonian(graph, controls, duration)\n",
    "    \n",
    "    sample_times = np.linspace(0, duration, sample_count)\n",
    "\n",
    "    unitaries = graph.time_evolution_operators_pwc(\n",
    "        hamiltonian=hamiltonian, sample_times=sample_times\n",
    "    )    \n",
    "    \n",
    "    evolved_states = unitaries @ initial_state\n",
    "    evolved_states.name = \"evolved_states\"\n",
    "    \n",
    "    infidelity = graph.state_infidelity(evolved_states[-1,:,0],target_state)\n",
    "    infidelity.name = \"infidelity\"\n",
    "    \n",
    "    results = qctrl.functions.calculate_graph(\n",
    "        graph = graph,\n",
    "        output_node_names = [\"evolved_states\",\"infidelity\"])\n",
    "    \n",
    "    return results\n",
    "\n",
    "# Run the experiment\n",
    "def run_experiments(controls, duration, repititions, shot_count):\n",
    "    # Create Boulder Opal graph.\n",
    "    graph = qctrl.create_graph()\n",
    "\n",
    "    # Define initial state.\n",
    "    initial_state = graph.fock_state(3, 0)\n",
    "\n",
    "    hamiltonian = make_hamiltonian(graph, controls, duration)\n",
    "    \n",
    "    unitary = graph.time_evolution_operators_pwc(\n",
    "        hamiltonian=hamiltonian, sample_times=np.array([duration])\n",
    "    )\n",
    "    unitary = unitary[:, -1]\n",
    "    final_unitary = unitary\n",
    "    for _ in range(repititions-1):\n",
    "        final_unitary = final_unitary @ unitary\n",
    "        \n",
    "    # Evolve initial state and calculate final (normalized) populations.\n",
    "    final_state = final_unitary @ initial_state[:, None]\n",
    "    populations = graph.abs(final_state) ** 2\n",
    "    \n",
    "    # Apply the confusion matrix to the populations.\n",
    "    confusion_matrix = np.array(\n",
    "        [[0.99, 0.01, 0.01], [0.01, 0.98, 0.01], [0.0, 0.01, 0.98]]\n",
    "    )\n",
    "    populations = confusion_matrix @ populations\n",
    "    populations.name = \"populations\"\n",
    "\n",
    "    # Execute graph and retrieve the populations.\n",
    "    result = qctrl.functions.calculate_graph(\n",
    "        graph=graph, output_node_names=[\"populations\"]\n",
    "    )\n",
    "    populations = result.output[\"populations\"][\"value\"].squeeze(axis=2)\n",
    "\n",
    "    # Simulate measurements for each control.\n",
    "    measurements_list = []\n",
    "    for p in populations:\n",
    "        # Sample and store measurements.\n",
    "        measurements = np.random.choice(3, size=shot_count, p=p / np.sum(p))\n",
    "        measurements_list.append(measurements)\n",
    "\n",
    "    return (measurements_list, result)\n",
    "\n",
    "\n",
    "# Calculate cost from experiment results.\n",
    "def cost_function(controls):\n",
    "\n",
    "    (measurements, _) = run_experiments(controls, duration, 1, shot_count)\n",
    "\n",
    "    costs = []\n",
    "    for shots in measurements:\n",
    "        shots_in_one = np.count_nonzero(shots == 1)\n",
    "        fidelity = shots_in_one / len(shots)\n",
    "        costs.append(1 - fidelity)\n",
    "\n",
    "    return costs"
   ]
  },
  {
   "cell_type": "code",
   "execution_count": 57,
   "metadata": {},
   "outputs": [],
   "source": [
    "# Number of segments in each control.\n",
    "segment_count = 10\n",
    "\n",
    "# Duration of each control.\n",
    "duration = 40  # ns\n",
    "\n",
    "# Number of controls to retrieve from the optimizer each run.\n",
    "test_point_count = 32\n",
    "\n",
    "# Number of projective measurements to take after the control is applied.\n",
    "shot_count = 128\n",
    "\n",
    "# Define parameters as a set of controls with piecewise-constant segments.\n",
    "rng = np.random.default_rng(seed=1)\n",
    "initial_controls = rng.uniform(-1.0, 1.0, size=(test_point_count, segment_count))\n",
    "\n",
    "#Define bounds for each parameter\n",
    "bounds = np.repeat([[-1.0, 1.0]], segment_count, axis=0)"
   ]
  },
  {
   "cell_type": "code",
   "execution_count": 58,
   "metadata": {},
   "outputs": [
    {
     "name": "stdout",
     "output_type": "stream",
     "text": [
      "Running closed loop optimization\n",
      "----------------------------------------\n",
      "  Optimizer            : cross entropy\n",
      "  Number of test points: 32\n",
      "  Number of parameters : 10\n",
      "----------------------------------------\n",
      "\n",
      "Calling cost function…\n"
     ]
    },
    {
     "data": {
      "application/vnd.jupyter.widget-view+json": {
       "model_id": "",
       "version_major": 2,
       "version_minor": 0
      },
      "text/plain": [
       "  0%|          | 0/100 [00:00<?, ?it/s]"
      ]
     },
     "metadata": {},
     "output_type": "display_data"
    },
    {
     "name": "stdout",
     "output_type": "stream",
     "text": [
      "Your task calculate_graph (action_id=\"1253689\") has completed.\n",
      "  Initial best cost: 0.070\n",
      "\n",
      "Running optimizer…\n"
     ]
    },
    {
     "data": {
      "application/vnd.jupyter.widget-view+json": {
       "model_id": "",
       "version_major": 2,
       "version_minor": 0
      },
      "text/plain": [
       "  0%|          | 0/100 [00:00<?, ?it/s]"
      ]
     },
     "metadata": {},
     "output_type": "display_data"
    },
    {
     "name": "stdout",
     "output_type": "stream",
     "text": [
      "Your task calculate_closed_loop_optimization_step (action_id=\"1253690\") has completed.\n",
      "Calling cost function…\n"
     ]
    },
    {
     "data": {
      "application/vnd.jupyter.widget-view+json": {
       "model_id": "",
       "version_major": 2,
       "version_minor": 0
      },
      "text/plain": [
       "  0%|          | 0/100 [00:00<?, ?it/s]"
      ]
     },
     "metadata": {},
     "output_type": "display_data"
    },
    {
     "name": "stdout",
     "output_type": "stream",
     "text": [
      "Your task calculate_graph (action_id=\"1253691\") has completed.\n",
      "  Best cost after 1 iterations: 0.070\n",
      "\n",
      "Running optimizer…\n"
     ]
    },
    {
     "data": {
      "application/vnd.jupyter.widget-view+json": {
       "model_id": "",
       "version_major": 2,
       "version_minor": 0
      },
      "text/plain": [
       "  0%|          | 0/100 [00:00<?, ?it/s]"
      ]
     },
     "metadata": {},
     "output_type": "display_data"
    },
    {
     "name": "stdout",
     "output_type": "stream",
     "text": [
      "Your task calculate_closed_loop_optimization_step (action_id=\"1253692\") has completed.\n",
      "Calling cost function…\n"
     ]
    },
    {
     "data": {
      "application/vnd.jupyter.widget-view+json": {
       "model_id": "",
       "version_major": 2,
       "version_minor": 0
      },
      "text/plain": [
       "  0%|          | 0/100 [00:00<?, ?it/s]"
      ]
     },
     "metadata": {},
     "output_type": "display_data"
    },
    {
     "name": "stdout",
     "output_type": "stream",
     "text": [
      "Your task calculate_graph (action_id=\"1253693\") has completed.\n",
      "  Best cost after 2 iterations: 0.070\n",
      "\n",
      "Running optimizer…\n"
     ]
    },
    {
     "data": {
      "application/vnd.jupyter.widget-view+json": {
       "model_id": "",
       "version_major": 2,
       "version_minor": 0
      },
      "text/plain": [
       "  0%|          | 0/100 [00:00<?, ?it/s]"
      ]
     },
     "metadata": {},
     "output_type": "display_data"
    },
    {
     "name": "stdout",
     "output_type": "stream",
     "text": [
      "Your task calculate_closed_loop_optimization_step (action_id=\"1253694\") has completed.\n",
      "Calling cost function…\n"
     ]
    },
    {
     "data": {
      "application/vnd.jupyter.widget-view+json": {
       "model_id": "",
       "version_major": 2,
       "version_minor": 0
      },
      "text/plain": [
       "  0%|          | 0/100 [00:00<?, ?it/s]"
      ]
     },
     "metadata": {},
     "output_type": "display_data"
    },
    {
     "name": "stdout",
     "output_type": "stream",
     "text": [
      "Your task calculate_graph (action_id=\"1253695\") has completed.\n",
      "  Best cost after 3 iterations: 0.062\n",
      "\n",
      "Running optimizer…\n"
     ]
    },
    {
     "data": {
      "application/vnd.jupyter.widget-view+json": {
       "model_id": "",
       "version_major": 2,
       "version_minor": 0
      },
      "text/plain": [
       "  0%|          | 0/100 [00:00<?, ?it/s]"
      ]
     },
     "metadata": {},
     "output_type": "display_data"
    },
    {
     "name": "stdout",
     "output_type": "stream",
     "text": [
      "Your task calculate_closed_loop_optimization_step (action_id=\"1253696\") has completed.\n",
      "Calling cost function…\n"
     ]
    },
    {
     "data": {
      "application/vnd.jupyter.widget-view+json": {
       "model_id": "",
       "version_major": 2,
       "version_minor": 0
      },
      "text/plain": [
       "  0%|          | 0/100 [00:00<?, ?it/s]"
      ]
     },
     "metadata": {},
     "output_type": "display_data"
    },
    {
     "name": "stdout",
     "output_type": "stream",
     "text": [
      "Your task calculate_graph (action_id=\"1253697\") has completed.\n",
      "  Best cost after 4 iterations: 0.055\n",
      "\n",
      "Running optimizer…\n"
     ]
    },
    {
     "data": {
      "application/vnd.jupyter.widget-view+json": {
       "model_id": "",
       "version_major": 2,
       "version_minor": 0
      },
      "text/plain": [
       "  0%|          | 0/100 [00:00<?, ?it/s]"
      ]
     },
     "metadata": {},
     "output_type": "display_data"
    },
    {
     "name": "stdout",
     "output_type": "stream",
     "text": [
      "Your task calculate_closed_loop_optimization_step (action_id=\"1253698\") has completed.\n",
      "Calling cost function…\n"
     ]
    },
    {
     "data": {
      "application/vnd.jupyter.widget-view+json": {
       "model_id": "",
       "version_major": 2,
       "version_minor": 0
      },
      "text/plain": [
       "  0%|          | 0/100 [00:00<?, ?it/s]"
      ]
     },
     "metadata": {},
     "output_type": "display_data"
    },
    {
     "name": "stdout",
     "output_type": "stream",
     "text": [
      "Your task calculate_graph (action_id=\"1253699\") has completed.\n",
      "  Best cost after 5 iterations: 0.016\n",
      "\n",
      "Target cost reached. Stopping the optimization.\n"
     ]
    }
   ],
   "source": [
    "# Define the state object for the closed-loop optimizer.\n",
    "optimizer = qctrl.closed_loop.CrossEntropy(elite_fraction=0.25, seed=1)\n",
    "\n",
    "max_iteration_count = 20\n",
    "target_cost = 0.02\n",
    "\n",
    "# Run the optimization loop until the cost (infidelity) is sufficiently small.\n",
    "results = qctrl.closed_loop.optimize(\n",
    "    cost_function=cost_function,\n",
    "    initial_test_parameters=initial_controls,\n",
    "    optimizer=optimizer,\n",
    "    bounds=bounds,\n",
    "    target_cost=target_cost,\n",
    "    max_iteration_count=max_iteration_count,\n",
    ")"
   ]
  },
  {
   "cell_type": "code",
   "execution_count": 59,
   "metadata": {},
   "outputs": [
    {
     "data": {
      "image/png": "[encoded data removed]",
      "text/plain": [
       "<Figure size 720x360 with 1 Axes>"
      ]
     },
     "metadata": {},
     "output_type": "display_data"
    }
   ],
   "source": [
    "plot_cost_history(\n",
    "    plt.figure(), results[\"best_cost_history\"], y_axis_log=False\n",
    ")"
   ]
  },
  {
   "cell_type": "code",
   "execution_count": 60,
   "metadata": {},
   "outputs": [
    {
     "name": "stdout",
     "output_type": "stream",
     "text": [
      "Best cost reached: 0.016\n",
      "Best control values: [-0.703 -0.349 -0.39  -0.276 -0.69  -0.049  0.053 -0.156  0.092  0.787]\n"
     ]
    },
    {
     "data": {
      "image/png": "[encoded data removed]",
      "text/plain": [
       "<Figure size 720x180 with 1 Axes>"
      ]
     },
     "metadata": {},
     "output_type": "display_data"
    }
   ],
   "source": [
    "# Print final best cost.\n",
    "print(f\"Best cost reached: {results['best_cost']:.3f}\")\n",
    "\n",
    "# Print and plot controls that correspond to the best cost.\n",
    "best_controls = results['best_parameters']\n",
    "print(f\"Best control values: {np.round(results['best_parameters'], 3)}\")\n",
    "\n",
    "plot_controls(\n",
    "    figure=plt.figure(),\n",
    "    controls={\n",
    "        r\"$\\Omega(t)$\": qctrl.utils.pwc_arrays_to_pairs(\n",
    "            duration, results[\"best_parameters\"]\n",
    "        )\n",
    "    },\n",
    "    two_pi_factor=False,\n",
    "    unit_symbol=\" a.u.\",\n",
    ")\n",
    "plt.suptitle(\"Best control\")\n",
    "plt.show()"
   ]
  },
  {
   "cell_type": "code",
   "execution_count": 61,
   "metadata": {},
   "outputs": [
    {
     "data": {
      "application/vnd.jupyter.widget-view+json": {
       "model_id": "",
       "version_major": 2,
       "version_minor": 0
      },
      "text/plain": [
       "  0%|          | 0/100 [00:00<?, ?it/s]"
      ]
     },
     "metadata": {},
     "output_type": "display_data"
    },
    {
     "name": "stdout",
     "output_type": "stream",
     "text": [
      "Your task calculate_graph (action_id=\"1253700\") has started.\n",
      "Your task calculate_graph (action_id=\"1253700\") has completed.\n"
     ]
    }
   ],
   "source": [
    "sample_count = 256\n",
    "\n",
    "best_results = run_simulation(best_controls, duration, sample_count)"
   ]
  },
  {
   "cell_type": "code",
   "execution_count": 62,
   "metadata": {},
   "outputs": [
    {
     "name": "stdout",
     "output_type": "stream",
     "text": [
      "Optimized state infidelity: 1.062e-02\n"
     ]
    }
   ],
   "source": [
    "state_infidelity = best_results.output['infidelity']['value']\n",
    "\n",
    "print(f\"Optimized state infidelity: {state_infidelity:.3e}\")"
   ]
  },
  {
   "cell_type": "code",
   "execution_count": 63,
   "metadata": {},
   "outputs": [
    {
     "data": {
      "image/png": "[encoded data removed]",
      "text/plain": [
       "<Figure size 720x360 with 1 Axes>"
      ]
     },
     "metadata": {},
     "output_type": "display_data"
    }
   ],
   "source": [
    "state_vectors = best_results.output['evolved_states']['value']\n",
    "populations = np.abs(state_vectors)**2\n",
    "sample_times = np.linspace(0, duration, sample_count)\n",
    "\n",
    "plot_populations(\n",
    "    plt.figure(),\n",
    "    sample_times,\n",
    "    {rf\"$|{state}\\rangle$\": populations[:, state] for state in range(3)},\n",
    ")\n"
   ]
  },
  {
   "cell_type": "markdown",
   "metadata": {},
   "source": [
    "## Problem: Improving the closed-optimiation\n",
    "\n",
    "(a) Can you get a higher fidelity transfer (higher than 0.999) by only changing the definition of the cost function? You can take more experiments to calculate the cost function, but you can't change the pulse parameters. \n",
    "\n",
    "(b) Can you reduce the number of steps it take to get the target cost by changing the optimization algorithm?"
   ]
  },
  {
   "cell_type": "code",
   "execution_count": null,
   "metadata": {},
   "outputs": [],
   "source": []
  },
  {
   "cell_type": "markdown",
   "metadata": {},
   "source": [
    "## Homework: Optimization of a real experiment\n",
    "\n",
    "Can you use the closed loop optimization package to optimize state transfer on a real quantum device? "
   ]
  },
  {
   "cell_type": "code",
   "execution_count": null,
   "metadata": {},
   "outputs": [],
   "source": []
  }
 ],
 "metadata": {
  "kernelspec": {
   "display_name": "Python 3 (ipykernel)",
   "language": "python",
   "name": "python3"
  },
  "language_info": {
   "codemirror_mode": {
    "name": "ipython",
    "version": 3
   },
   "file_extension": ".py",
   "mimetype": "text/x-python",
   "name": "python",
   "nbconvert_exporter": "python",
   "pygments_lexer": "ipython3",
   "version": "3.8.12"
  }
 },
 "nbformat": 4,
 "nbformat_minor": 4
}
