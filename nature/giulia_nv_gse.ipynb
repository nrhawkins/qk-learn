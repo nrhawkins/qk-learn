{
 "cells": [
  {
   "cell_type": "code",
   "execution_count": null,
   "id": "75201e07",
   "metadata": {},
   "outputs": [],
   "source": [
    "# imports"
   ]
  },
  {
   "cell_type": "code",
   "execution_count": null,
   "id": "c95e05d5",
   "metadata": {},
   "outputs": [],
   "source": [
    "# Define a molecule?"
   ]
  },
  {
   "cell_type": "code",
   "execution_count": null,
   "id": "2b33d984",
   "metadata": {},
   "outputs": [],
   "source": []
  }
 ],
 "metadata": {
  "kernelspec": {
   "display_name": "qklearn_py38",
   "language": "python",
   "name": "qklearn_py38"
  },
  "language_info": {
   "codemirror_mode": {
    "name": "ipython",
    "version": 3
   },
   "file_extension": ".py",
   "mimetype": "text/x-python",
   "name": "python",
   "nbconvert_exporter": "python",
   "pygments_lexer": "ipython3",
   "version": "3.8.12"
  }
 },
 "nbformat": 4,
 "nbformat_minor": 5
}
