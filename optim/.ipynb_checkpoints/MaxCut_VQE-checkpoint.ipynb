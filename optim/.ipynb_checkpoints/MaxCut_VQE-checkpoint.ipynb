{
 "cells": [
  {
   "cell_type": "code",
   "execution_count": 1,
   "id": "9259eb64",
   "metadata": {},
   "outputs": [],
   "source": [
    "# Optimization - searching for the optimal value\n",
    "# MaxCut : NP-Complete\n",
    "# Map onto QC manually\n",
    "import matplotlib.pyplot as plt\n",
    "import matplotlib.axes as axes\n",
    "import numpy as np\n",
    "import networkx as nx\n",
    "\n",
    "from qiskit import Aer\n",
    "from qiskit.tools.visualization import plot_histogram\n",
    "from qiskit.circuit.library import TwoLocal\n",
    "from qiskit_optimization.applications import Maxcut, Tsp\n",
    "from qiskit.algorithms import VQE, NumPyMinimumEigensolver\n",
    "from qiskit.algorithms.optimizers import SPSA\n",
    "from qiskit.utils import algorithm_globals, QuantumInstance\n",
    "from qiskit_optimization.algorithms import MinimumEigenOptimizer\n",
    "from qiskit_optimization.problems import QuadraticProgram"
   ]
  },
  {
   "cell_type": "code",
   "execution_count": null,
   "id": "04be801d",
   "metadata": {},
   "outputs": [],
   "source": [
    "# Generate Graph\n"
   ]
  },
  {
   "cell_type": "code",
   "execution_count": 2,
   "id": "42123ed6",
   "metadata": {},
   "outputs": [],
   "source": [
    "# Computing the weight matrix from the random graph\n",
    "w = [[0,0,1,1,0,0],\n",
    "     [0,0,1,1,0,0],\n",
    "     [1,1,0,0,1,1],\n",
    "     [1,1,0,0,1,1],\n",
    "     [0,0,1,1,0,0],\n",
    "     [0,0,1,1,0,0]]"
   ]
  },
  {
   "cell_type": "code",
   "execution_count": null,
   "id": "f69c9a31",
   "metadata": {},
   "outputs": [],
   "source": [
    "# Brute force, 2^n combinations, 2**6 = 64\n",
    "# expected answer is 8 edges for this graph"
   ]
  },
  {
   "cell_type": "code",
   "execution_count": null,
   "id": "1865b9c5",
   "metadata": {},
   "outputs": [],
   "source": [
    "# Map to the Ising Problem - Create Ising Hamiltonian\n",
    "max_cut = Maxcut(w)\n",
    "qp = max_cut.to_quadratic_program()\n",
    "print(qp.export_as_lp_string())"
   ]
  }
 ],
 "metadata": {
  "kernelspec": {
   "display_name": "qklearn_py38",
   "language": "python",
   "name": "qklearn_py38"
  },
  "language_info": {
   "codemirror_mode": {
    "name": "ipython",
    "version": 3
   },
   "file_extension": ".py",
   "mimetype": "text/x-python",
   "name": "python",
   "nbconvert_exporter": "python",
   "pygments_lexer": "ipython3",
   "version": "3.8.12"
  }
 },
 "nbformat": 4,
 "nbformat_minor": 5
}
