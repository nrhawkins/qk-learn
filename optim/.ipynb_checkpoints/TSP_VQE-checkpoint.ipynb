{
 "cells": [
  {
   "cell_type": "code",
   "execution_count": null,
   "id": "1677fef4",
   "metadata": {},
   "outputs": [],
   "source": [
    "# Travelling Salesman Problem - notoriously NP-complete\n"
   ]
  }
 ],
 "metadata": {
  "kernelspec": {
   "display_name": "qklearn_py38",
   "language": "python",
   "name": "qklearn_py38"
  },
  "language_info": {
   "codemirror_mode": {
    "name": "ipython",
    "version": 3
   },
   "file_extension": ".py",
   "mimetype": "text/x-python",
   "name": "python",
   "nbconvert_exporter": "python",
   "pygments_lexer": "ipython3",
   "version": "3.8.12"
  }
 },
 "nbformat": 4,
 "nbformat_minor": 5
}
